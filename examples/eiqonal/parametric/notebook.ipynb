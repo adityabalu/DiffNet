{
 "cells": [
  {
   "cell_type": "code",
   "execution_count": 17,
   "metadata": {},
   "outputs": [],
   "source": [
    "import torch\n",
    "import torch.nn as nn\n",
    "import torch.nn.functional as F\n",
    "\n",
    "class ConvNet(nn.Module):\n",
    "\tdef __init__(self, inchannels, outchannels, hchannels, kernel=2, nonlin=nn.ReLU(), final_nonlin=nn.Identity()):\n",
    "\t\tsuper(ConvNet, self).__init__()\n",
    "\t\t\n",
    "\t\tself.in_channels, self.out_channels = inchannels, outchannels\n",
    "\t\tself.nhidden = len(hchannels)\n",
    "\t\tchannels = [inchannels] + hchannels + [outchannels]\n",
    "\t\tself.nonlin = [nonlin for k in range(self.nhidden)] + [final_nonlin]\n",
    "\t\tself.conv = nn.ModuleList(\n",
    "\t\t\t[\n",
    "\t\t\t\tnn.ConvTranspose1d(channels[k], channels[k+1], kernel, stride=2) for k in range(self.nhidden + 1)\n",
    "\t\t\t]\n",
    "\t\t)\n",
    "\tdef forward(self, x):\n",
    "\t\tfor conv, nlin in zip(self.conv, self.nonlin):\n",
    "\t\t\tprint('* '*10)\n",
    "\t\t\tprint(x)\n",
    "\t\t\tprint(x.shape)\n",
    "\t\t\tprint(conv)\n",
    "\t\t\tprint(nlin)\n",
    "\t\t\tprint('* '*10)\n",
    "\t\t\tx = nlin(conv(x))\n",
    "\t\treturn x\n",
    "\n",
    "\n",
    "class ImmDiff(nn.Module):\n",
    "    def __init__(self):\n",
    "        super(ImmDiff, self).__init__()\n",
    "\n",
    "        self.nurbs_to_img = ConvNet(1000, 32, [500 for i in range(3)], nonlin=torch.sin)\n",
    "\n",
    "        self.up_conv_1 = nn.ConvTranspose2d(1, 1, kernel_size=2, stride=2)\n",
    "        self.up_conv_2 = nn.ConvTranspose2d(1, 1, kernel_size=2, stride=2)\n",
    "    \n",
    "    def forward(self, x):\n",
    "        x = F.tanh(self.nurbs_to_img(x)).unsqueeze(1)\n",
    "        print(x.shape)\n",
    "        x = F.tanh(self.up_conv_1(x))\n",
    "        print(x.shape)\n",
    "        return self.up_conv_2(x)"
   ]
  },
  {
   "cell_type": "code",
   "execution_count": 21,
   "metadata": {},
   "outputs": [
    {
     "name": "stdout",
     "output_type": "stream",
     "text": [
      "* * * * * * * * * * \n",
      "tensor([[[[1., 1.],\n",
      "          [1., 1.],\n",
      "          [1., 1.],\n",
      "          ...,\n",
      "          [1., 1.],\n",
      "          [1., 1.],\n",
      "          [1., 1.]]],\n",
      "\n",
      "\n",
      "        [[[1., 1.],\n",
      "          [1., 1.],\n",
      "          [1., 1.],\n",
      "          ...,\n",
      "          [1., 1.],\n",
      "          [1., 1.],\n",
      "          [1., 1.]]],\n",
      "\n",
      "\n",
      "        [[[1., 1.],\n",
      "          [1., 1.],\n",
      "          [1., 1.],\n",
      "          ...,\n",
      "          [1., 1.],\n",
      "          [1., 1.],\n",
      "          [1., 1.]]],\n",
      "\n",
      "\n",
      "        ...,\n",
      "\n",
      "\n",
      "        [[[1., 1.],\n",
      "          [1., 1.],\n",
      "          [1., 1.],\n",
      "          ...,\n",
      "          [1., 1.],\n",
      "          [1., 1.],\n",
      "          [1., 1.]]],\n",
      "\n",
      "\n",
      "        [[[1., 1.],\n",
      "          [1., 1.],\n",
      "          [1., 1.],\n",
      "          ...,\n",
      "          [1., 1.],\n",
      "          [1., 1.],\n",
      "          [1., 1.]]],\n",
      "\n",
      "\n",
      "        [[[1., 1.],\n",
      "          [1., 1.],\n",
      "          [1., 1.],\n",
      "          ...,\n",
      "          [1., 1.],\n",
      "          [1., 1.],\n",
      "          [1., 1.]]]])\n",
      "torch.Size([16, 1, 1000, 2])\n",
      "ConvTranspose1d(1000, 500, kernel_size=(2,), stride=(2,))\n",
      "<built-in method sin of type object at 0x7f7c40747ea0>\n",
      "* * * * * * * * * * \n"
     ]
    },
    {
     "ename": "RuntimeError",
     "evalue": "Expected 3-dimensional input for 3-dimensional weight [1000, 500, 2], but got 4-dimensional input of size [16, 1, 1000, 2] instead",
     "output_type": "error",
     "traceback": [
      "\u001b[0;31m---------------------------------------------------------------------------\u001b[0m",
      "\u001b[0;31mRuntimeError\u001b[0m                              Traceback (most recent call last)",
      "\u001b[1;32m/data/EthanHerron/DiffNet/DiffNet/examples/eiqonal/parametric/notebook.ipynb Cell 2'\u001b[0m in \u001b[0;36m<cell line: 4>\u001b[0;34m()\u001b[0m\n\u001b[1;32m      <a href='vscode-notebook-cell://ssh-remote%2Bscslab01.me.iastate.edu/data/EthanHerron/DiffNet/DiffNet/examples/eiqonal/parametric/notebook.ipynb#ch0000001vscode-remote?line=1'>2</a>\u001b[0m \u001b[39m# network = ConvNet(1000, 32, [500 for i in range(3)], nonlin=torch.sigmoid)\u001b[39;00m\n\u001b[1;32m      <a href='vscode-notebook-cell://ssh-remote%2Bscslab01.me.iastate.edu/data/EthanHerron/DiffNet/DiffNet/examples/eiqonal/parametric/notebook.ipynb#ch0000001vscode-remote?line=2'>3</a>\u001b[0m network \u001b[39m=\u001b[39m ImmDiff()\n\u001b[0;32m----> <a href='vscode-notebook-cell://ssh-remote%2Bscslab01.me.iastate.edu/data/EthanHerron/DiffNet/DiffNet/examples/eiqonal/parametric/notebook.ipynb#ch0000001vscode-remote?line=3'>4</a>\u001b[0m y_hat \u001b[39m=\u001b[39m network(x)\n",
      "File \u001b[0;32m~/.conda/envs/diffnet/lib/python3.8/site-packages/torch/nn/modules/module.py:1051\u001b[0m, in \u001b[0;36mModule._call_impl\u001b[0;34m(self, *input, **kwargs)\u001b[0m\n\u001b[1;32m   <a href='file:///home/edherron/.conda/envs/diffnet/lib/python3.8/site-packages/torch/nn/modules/module.py?line=1046'>1047</a>\u001b[0m \u001b[39m# If we don't have any hooks, we want to skip the rest of the logic in\u001b[39;00m\n\u001b[1;32m   <a href='file:///home/edherron/.conda/envs/diffnet/lib/python3.8/site-packages/torch/nn/modules/module.py?line=1047'>1048</a>\u001b[0m \u001b[39m# this function, and just call forward.\u001b[39;00m\n\u001b[1;32m   <a href='file:///home/edherron/.conda/envs/diffnet/lib/python3.8/site-packages/torch/nn/modules/module.py?line=1048'>1049</a>\u001b[0m \u001b[39mif\u001b[39;00m \u001b[39mnot\u001b[39;00m (\u001b[39mself\u001b[39m\u001b[39m.\u001b[39m_backward_hooks \u001b[39mor\u001b[39;00m \u001b[39mself\u001b[39m\u001b[39m.\u001b[39m_forward_hooks \u001b[39mor\u001b[39;00m \u001b[39mself\u001b[39m\u001b[39m.\u001b[39m_forward_pre_hooks \u001b[39mor\u001b[39;00m _global_backward_hooks\n\u001b[1;32m   <a href='file:///home/edherron/.conda/envs/diffnet/lib/python3.8/site-packages/torch/nn/modules/module.py?line=1049'>1050</a>\u001b[0m         \u001b[39mor\u001b[39;00m _global_forward_hooks \u001b[39mor\u001b[39;00m _global_forward_pre_hooks):\n\u001b[0;32m-> <a href='file:///home/edherron/.conda/envs/diffnet/lib/python3.8/site-packages/torch/nn/modules/module.py?line=1050'>1051</a>\u001b[0m     \u001b[39mreturn\u001b[39;00m forward_call(\u001b[39m*\u001b[39;49m\u001b[39minput\u001b[39;49m, \u001b[39m*\u001b[39;49m\u001b[39m*\u001b[39;49mkwargs)\n\u001b[1;32m   <a href='file:///home/edherron/.conda/envs/diffnet/lib/python3.8/site-packages/torch/nn/modules/module.py?line=1051'>1052</a>\u001b[0m \u001b[39m# Do not call functions when jit is used\u001b[39;00m\n\u001b[1;32m   <a href='file:///home/edherron/.conda/envs/diffnet/lib/python3.8/site-packages/torch/nn/modules/module.py?line=1052'>1053</a>\u001b[0m full_backward_hooks, non_full_backward_hooks \u001b[39m=\u001b[39m [], []\n",
      "\u001b[1;32m/data/EthanHerron/DiffNet/DiffNet/examples/eiqonal/parametric/notebook.ipynb Cell 2'\u001b[0m in \u001b[0;36mImmDiff.forward\u001b[0;34m(self, x)\u001b[0m\n\u001b[1;32m     <a href='vscode-notebook-cell://ssh-remote%2Bscslab01.me.iastate.edu/data/EthanHerron/DiffNet/DiffNet/examples/eiqonal/parametric/notebook.ipynb#ch0000001vscode-remote?line=38'>39</a>\u001b[0m \u001b[39mdef\u001b[39;00m \u001b[39mforward\u001b[39m(\u001b[39mself\u001b[39m, x):\n\u001b[0;32m---> <a href='vscode-notebook-cell://ssh-remote%2Bscslab01.me.iastate.edu/data/EthanHerron/DiffNet/DiffNet/examples/eiqonal/parametric/notebook.ipynb#ch0000001vscode-remote?line=39'>40</a>\u001b[0m     x \u001b[39m=\u001b[39m F\u001b[39m.\u001b[39mtanh(\u001b[39mself\u001b[39;49m\u001b[39m.\u001b[39;49mnurbs_to_img(x))\u001b[39m.\u001b[39munsqueeze(\u001b[39m1\u001b[39m)\n\u001b[1;32m     <a href='vscode-notebook-cell://ssh-remote%2Bscslab01.me.iastate.edu/data/EthanHerron/DiffNet/DiffNet/examples/eiqonal/parametric/notebook.ipynb#ch0000001vscode-remote?line=40'>41</a>\u001b[0m     \u001b[39mprint\u001b[39m(x\u001b[39m.\u001b[39mshape)\n\u001b[1;32m     <a href='vscode-notebook-cell://ssh-remote%2Bscslab01.me.iastate.edu/data/EthanHerron/DiffNet/DiffNet/examples/eiqonal/parametric/notebook.ipynb#ch0000001vscode-remote?line=41'>42</a>\u001b[0m     x \u001b[39m=\u001b[39m F\u001b[39m.\u001b[39mtanh(\u001b[39mself\u001b[39m\u001b[39m.\u001b[39mup_conv_1(x))\n",
      "File \u001b[0;32m~/.conda/envs/diffnet/lib/python3.8/site-packages/torch/nn/modules/module.py:1051\u001b[0m, in \u001b[0;36mModule._call_impl\u001b[0;34m(self, *input, **kwargs)\u001b[0m\n\u001b[1;32m   <a href='file:///home/edherron/.conda/envs/diffnet/lib/python3.8/site-packages/torch/nn/modules/module.py?line=1046'>1047</a>\u001b[0m \u001b[39m# If we don't have any hooks, we want to skip the rest of the logic in\u001b[39;00m\n\u001b[1;32m   <a href='file:///home/edherron/.conda/envs/diffnet/lib/python3.8/site-packages/torch/nn/modules/module.py?line=1047'>1048</a>\u001b[0m \u001b[39m# this function, and just call forward.\u001b[39;00m\n\u001b[1;32m   <a href='file:///home/edherron/.conda/envs/diffnet/lib/python3.8/site-packages/torch/nn/modules/module.py?line=1048'>1049</a>\u001b[0m \u001b[39mif\u001b[39;00m \u001b[39mnot\u001b[39;00m (\u001b[39mself\u001b[39m\u001b[39m.\u001b[39m_backward_hooks \u001b[39mor\u001b[39;00m \u001b[39mself\u001b[39m\u001b[39m.\u001b[39m_forward_hooks \u001b[39mor\u001b[39;00m \u001b[39mself\u001b[39m\u001b[39m.\u001b[39m_forward_pre_hooks \u001b[39mor\u001b[39;00m _global_backward_hooks\n\u001b[1;32m   <a href='file:///home/edherron/.conda/envs/diffnet/lib/python3.8/site-packages/torch/nn/modules/module.py?line=1049'>1050</a>\u001b[0m         \u001b[39mor\u001b[39;00m _global_forward_hooks \u001b[39mor\u001b[39;00m _global_forward_pre_hooks):\n\u001b[0;32m-> <a href='file:///home/edherron/.conda/envs/diffnet/lib/python3.8/site-packages/torch/nn/modules/module.py?line=1050'>1051</a>\u001b[0m     \u001b[39mreturn\u001b[39;00m forward_call(\u001b[39m*\u001b[39;49m\u001b[39minput\u001b[39;49m, \u001b[39m*\u001b[39;49m\u001b[39m*\u001b[39;49mkwargs)\n\u001b[1;32m   <a href='file:///home/edherron/.conda/envs/diffnet/lib/python3.8/site-packages/torch/nn/modules/module.py?line=1051'>1052</a>\u001b[0m \u001b[39m# Do not call functions when jit is used\u001b[39;00m\n\u001b[1;32m   <a href='file:///home/edherron/.conda/envs/diffnet/lib/python3.8/site-packages/torch/nn/modules/module.py?line=1052'>1053</a>\u001b[0m full_backward_hooks, non_full_backward_hooks \u001b[39m=\u001b[39m [], []\n",
      "\u001b[1;32m/data/EthanHerron/DiffNet/DiffNet/examples/eiqonal/parametric/notebook.ipynb Cell 2'\u001b[0m in \u001b[0;36mConvNet.forward\u001b[0;34m(self, x)\u001b[0m\n\u001b[1;32m     <a href='vscode-notebook-cell://ssh-remote%2Bscslab01.me.iastate.edu/data/EthanHerron/DiffNet/DiffNet/examples/eiqonal/parametric/notebook.ipynb#ch0000001vscode-remote?line=23'>24</a>\u001b[0m \t\u001b[39mprint\u001b[39m(nlin)\n\u001b[1;32m     <a href='vscode-notebook-cell://ssh-remote%2Bscslab01.me.iastate.edu/data/EthanHerron/DiffNet/DiffNet/examples/eiqonal/parametric/notebook.ipynb#ch0000001vscode-remote?line=24'>25</a>\u001b[0m \t\u001b[39mprint\u001b[39m(\u001b[39m'\u001b[39m\u001b[39m* \u001b[39m\u001b[39m'\u001b[39m\u001b[39m*\u001b[39m\u001b[39m10\u001b[39m)\n\u001b[0;32m---> <a href='vscode-notebook-cell://ssh-remote%2Bscslab01.me.iastate.edu/data/EthanHerron/DiffNet/DiffNet/examples/eiqonal/parametric/notebook.ipynb#ch0000001vscode-remote?line=25'>26</a>\u001b[0m \tx \u001b[39m=\u001b[39m nlin(conv(x))\n\u001b[1;32m     <a href='vscode-notebook-cell://ssh-remote%2Bscslab01.me.iastate.edu/data/EthanHerron/DiffNet/DiffNet/examples/eiqonal/parametric/notebook.ipynb#ch0000001vscode-remote?line=26'>27</a>\u001b[0m \u001b[39mreturn\u001b[39;00m x\n",
      "File \u001b[0;32m~/.conda/envs/diffnet/lib/python3.8/site-packages/torch/nn/modules/module.py:1051\u001b[0m, in \u001b[0;36mModule._call_impl\u001b[0;34m(self, *input, **kwargs)\u001b[0m\n\u001b[1;32m   <a href='file:///home/edherron/.conda/envs/diffnet/lib/python3.8/site-packages/torch/nn/modules/module.py?line=1046'>1047</a>\u001b[0m \u001b[39m# If we don't have any hooks, we want to skip the rest of the logic in\u001b[39;00m\n\u001b[1;32m   <a href='file:///home/edherron/.conda/envs/diffnet/lib/python3.8/site-packages/torch/nn/modules/module.py?line=1047'>1048</a>\u001b[0m \u001b[39m# this function, and just call forward.\u001b[39;00m\n\u001b[1;32m   <a href='file:///home/edherron/.conda/envs/diffnet/lib/python3.8/site-packages/torch/nn/modules/module.py?line=1048'>1049</a>\u001b[0m \u001b[39mif\u001b[39;00m \u001b[39mnot\u001b[39;00m (\u001b[39mself\u001b[39m\u001b[39m.\u001b[39m_backward_hooks \u001b[39mor\u001b[39;00m \u001b[39mself\u001b[39m\u001b[39m.\u001b[39m_forward_hooks \u001b[39mor\u001b[39;00m \u001b[39mself\u001b[39m\u001b[39m.\u001b[39m_forward_pre_hooks \u001b[39mor\u001b[39;00m _global_backward_hooks\n\u001b[1;32m   <a href='file:///home/edherron/.conda/envs/diffnet/lib/python3.8/site-packages/torch/nn/modules/module.py?line=1049'>1050</a>\u001b[0m         \u001b[39mor\u001b[39;00m _global_forward_hooks \u001b[39mor\u001b[39;00m _global_forward_pre_hooks):\n\u001b[0;32m-> <a href='file:///home/edherron/.conda/envs/diffnet/lib/python3.8/site-packages/torch/nn/modules/module.py?line=1050'>1051</a>\u001b[0m     \u001b[39mreturn\u001b[39;00m forward_call(\u001b[39m*\u001b[39;49m\u001b[39minput\u001b[39;49m, \u001b[39m*\u001b[39;49m\u001b[39m*\u001b[39;49mkwargs)\n\u001b[1;32m   <a href='file:///home/edherron/.conda/envs/diffnet/lib/python3.8/site-packages/torch/nn/modules/module.py?line=1051'>1052</a>\u001b[0m \u001b[39m# Do not call functions when jit is used\u001b[39;00m\n\u001b[1;32m   <a href='file:///home/edherron/.conda/envs/diffnet/lib/python3.8/site-packages/torch/nn/modules/module.py?line=1052'>1053</a>\u001b[0m full_backward_hooks, non_full_backward_hooks \u001b[39m=\u001b[39m [], []\n",
      "File \u001b[0;32m~/.conda/envs/diffnet/lib/python3.8/site-packages/torch/nn/modules/conv.py:767\u001b[0m, in \u001b[0;36mConvTranspose1d.forward\u001b[0;34m(self, input, output_size)\u001b[0m\n\u001b[1;32m    <a href='file:///home/edherron/.conda/envs/diffnet/lib/python3.8/site-packages/torch/nn/modules/conv.py?line=762'>763</a>\u001b[0m \u001b[39m# One cannot replace List by Tuple or Sequence in \"_output_padding\" because\u001b[39;00m\n\u001b[1;32m    <a href='file:///home/edherron/.conda/envs/diffnet/lib/python3.8/site-packages/torch/nn/modules/conv.py?line=763'>764</a>\u001b[0m \u001b[39m# TorchScript does not support `Sequence[T]` or `Tuple[T, ...]`.\u001b[39;00m\n\u001b[1;32m    <a href='file:///home/edherron/.conda/envs/diffnet/lib/python3.8/site-packages/torch/nn/modules/conv.py?line=764'>765</a>\u001b[0m output_padding \u001b[39m=\u001b[39m \u001b[39mself\u001b[39m\u001b[39m.\u001b[39m_output_padding(\n\u001b[1;32m    <a href='file:///home/edherron/.conda/envs/diffnet/lib/python3.8/site-packages/torch/nn/modules/conv.py?line=765'>766</a>\u001b[0m     \u001b[39minput\u001b[39m, output_size, \u001b[39mself\u001b[39m\u001b[39m.\u001b[39mstride, \u001b[39mself\u001b[39m\u001b[39m.\u001b[39mpadding, \u001b[39mself\u001b[39m\u001b[39m.\u001b[39mkernel_size, \u001b[39mself\u001b[39m\u001b[39m.\u001b[39mdilation)  \u001b[39m# type: ignore[arg-type]\u001b[39;00m\n\u001b[0;32m--> <a href='file:///home/edherron/.conda/envs/diffnet/lib/python3.8/site-packages/torch/nn/modules/conv.py?line=766'>767</a>\u001b[0m \u001b[39mreturn\u001b[39;00m F\u001b[39m.\u001b[39;49mconv_transpose1d(\n\u001b[1;32m    <a href='file:///home/edherron/.conda/envs/diffnet/lib/python3.8/site-packages/torch/nn/modules/conv.py?line=767'>768</a>\u001b[0m     \u001b[39minput\u001b[39;49m, \u001b[39mself\u001b[39;49m\u001b[39m.\u001b[39;49mweight, \u001b[39mself\u001b[39;49m\u001b[39m.\u001b[39;49mbias, \u001b[39mself\u001b[39;49m\u001b[39m.\u001b[39;49mstride, \u001b[39mself\u001b[39;49m\u001b[39m.\u001b[39;49mpadding,\n\u001b[1;32m    <a href='file:///home/edherron/.conda/envs/diffnet/lib/python3.8/site-packages/torch/nn/modules/conv.py?line=768'>769</a>\u001b[0m     output_padding, \u001b[39mself\u001b[39;49m\u001b[39m.\u001b[39;49mgroups, \u001b[39mself\u001b[39;49m\u001b[39m.\u001b[39;49mdilation)\n",
      "\u001b[0;31mRuntimeError\u001b[0m: Expected 3-dimensional input for 3-dimensional weight [1000, 500, 2], but got 4-dimensional input of size [16, 1, 1000, 2] instead"
     ]
    }
   ],
   "source": [
    "x = torch.ones((16,1,1000,2))\n",
    "# network = ConvNet(1000, 32, [500 for i in range(3)], nonlin=torch.sigmoid)\n",
    "network = ImmDiff()\n",
    "y_hat = network(x)"
   ]
  },
  {
   "cell_type": "code",
   "execution_count": 20,
   "metadata": {},
   "outputs": [
    {
     "name": "stdout",
     "output_type": "stream",
     "text": [
      "torch.Size([2, 1, 128, 128])\n"
     ]
    }
   ],
   "source": [
    "print(y_hat.shape)"
   ]
  },
  {
   "cell_type": "code",
   "execution_count": null,
   "metadata": {},
   "outputs": [],
   "source": []
  }
 ],
 "metadata": {
  "interpreter": {
   "hash": "d72395b50acd05a7644aad87604090969d4c2984c6177013db525fd19f9f74a8"
  },
  "kernelspec": {
   "display_name": "Python 3.8.10 ('diffnet')",
   "language": "python",
   "name": "python3"
  },
  "language_info": {
   "codemirror_mode": {
    "name": "ipython",
    "version": 3
   },
   "file_extension": ".py",
   "mimetype": "text/x-python",
   "name": "python",
   "nbconvert_exporter": "python",
   "pygments_lexer": "ipython3",
   "version": "3.8.10"
  },
  "orig_nbformat": 4
 },
 "nbformat": 4,
 "nbformat_minor": 2
}
