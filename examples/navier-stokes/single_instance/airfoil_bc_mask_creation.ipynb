{
 "cells": [
  {
   "cell_type": "code",
   "execution_count": 1,
   "id": "beginning-humanitarian",
   "metadata": {},
   "outputs": [],
   "source": [
    "import os\n",
    "import sys\n",
    "import math\n",
    "import json\n",
    "import torch\n",
    "import numpy as np\n",
    "\n",
    "import scipy.io\n",
    "from scipy import ndimage\n",
    "import matplotlib\n",
    "# from skimage import io\n",
    "# matplotlib.use(\"pgf\")\n",
    "matplotlib.rcParams.update({\n",
    "    # 'font.family': 'serif',\n",
    "    'font.size':8,\n",
    "})\n",
    "from matplotlib import pyplot as plt\n",
    "import PIL"
   ]
  },
  {
   "cell_type": "code",
   "execution_count": 2,
   "id": "breeding-distinction",
   "metadata": {},
   "outputs": [],
   "source": [
    "# def load_pc():\n",
    "#     data = np.loadtxt('../../poisson/single_instance/airfoil-e864/e864.dat')\n",
    "#     data[:,0] = data[:,0] + 2.5\n",
    "#     data[:,1] = data[:,1]*2.5 + 2.5\n",
    "#     return data\n",
    "# data = load_pc()\n",
    "# data[:,1].shape\n",
    "# plt.scatter(data[:,0], data[:,1])\n",
    "# np.savetxt('../../poisson/single_instance/airfoil-e864/e864-shifted.txt', data)"
   ]
  },
  {
   "cell_type": "code",
   "execution_count": 13,
   "id": "difficult-doctrine",
   "metadata": {},
   "outputs": [
    {
     "name": "stdout",
     "output_type": "stream",
     "text": [
      "(48, 128)\n"
     ]
    },
    {
     "data": {
      "text/plain": [
       "<matplotlib.colorbar.Colorbar at 0x2b324b9fabd0>"
      ]
     },
     "execution_count": 13,
     "metadata": {},
     "output_type": "execute_result"
    },
    {
     "data": {
      "image/png": "[encoded data removed]",
      "text/plain": [
       "<Figure size 864x360 with 2 Axes>"
      ]
     },
     "metadata": {
      "needs_background": "light"
     },
     "output_type": "display_data"
    }
   ],
   "source": [
    "imgset = 'xlen-8'\n",
    "fstr = '2032c'\n",
    "fstr = 'a18'\n",
    "fstr = 'n0012'\n",
    "fstr = 'naca0010'\n",
    "fstr = 'naca0021'\n",
    "filename = 'af_images/{}/{}.png'.format(imgset,fstr)\n",
    "img = PIL.Image.open(filename).convert('L')\n",
    "# plt.imshow(img, origin='lower')\n",
    "# plt.colorbar()\n",
    "\n",
    "img = (np.asarray(img)>0).astype('float')\n",
    "img = np.flipud(img)\n",
    "img1 = img[::8,::8]\n",
    "nx = img1.shape[1]; ny = img1.shape[0]\n",
    "outfile = './af_images/{}/{}_{}x{}.npy'.format(imgset, fstr, nx, ny)\n",
    "np.save(outfile, img1)\n",
    "print(img1.shape)\n",
    "plt.figure(figsize=(12,5))\n",
    "plt.imshow(img1, origin='lower')\n",
    "plt.colorbar()"
   ]
  },
  {
   "cell_type": "code",
   "execution_count": 15,
   "id": "ordered-clerk",
   "metadata": {},
   "outputs": [],
   "source": [
    "# bb=np.asarray(PIL.Image.open(filename))\n",
    "# plt.figure(figsize=(12,5))\n",
    "# plt.imshow(np.flipud(bb), origin='lower')\n",
    "# plt.colorbar()"
   ]
  }
 ],
 "metadata": {
  "kernelspec": {
   "display_name": "Python 3",
   "language": "python",
   "name": "python3"
  },
  "language_info": {
   "codemirror_mode": {
    "name": "ipython",
    "version": 3
   },
   "file_extension": ".py",
   "mimetype": "text/x-python",
   "name": "python",
   "nbconvert_exporter": "python",
   "pygments_lexer": "ipython3",
   "version": "3.7.7"
  }
 },
 "nbformat": 4,
 "nbformat_minor": 5
}
