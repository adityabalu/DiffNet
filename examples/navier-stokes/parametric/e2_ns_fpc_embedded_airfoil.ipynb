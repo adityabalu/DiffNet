{
 "cells": [
  {
   "cell_type": "code",
   "execution_count": 1,
   "metadata": {},
   "outputs": [
    {
     "name": "stderr",
     "output_type": "stream",
     "text": [
      "/work/baskarg/bkhara/python_virtual_envs/lightning/lib/python3.6/site-packages/pandas/compat/__init__.py:120: UserWarning: Could not import the lzma module. Your installed Python is incomplete. Attempting to use lzma compression will result in a RuntimeError.\n",
      "  warnings.warn(msg)\n",
      "Global seed set to 42\n",
      "Global seed set to 42\n"
     ]
    }
   ],
   "source": [
    "import os\n",
    "import sys\n",
    "import math\n",
    "import json\n",
    "import torch\n",
    "import PIL\n",
    "import numpy as np\n",
    "from tqdm import tqdm\n",
    "\n",
    "import scipy.io\n",
    "from scipy import ndimage\n",
    "import matplotlib\n",
    "# from skimage import io\n",
    "# matplotlib.use(\"pgf\")\n",
    "matplotlib.rcParams.update({\n",
    "    # 'font.family': 'serif',\n",
    "    'font.size':8,\n",
    "})\n",
    "from matplotlib import pyplot as plt\n",
    "\n",
    "import pytorch_lightning as pl\n",
    "from pytorch_lightning import Trainer, seed_everything\n",
    "from pytorch_lightning.loggers import TensorBoardLogger\n",
    "seed_everything(42)\n",
    "\n",
    "import DiffNet\n",
    "from DiffNet.DiffNetFEM import DiffNet2DFEM\n",
    "from torch.utils import data\n",
    "from DiffNet.networks.autoencoders import AE\n",
    "# from e1_stokes_base_resmin import Stokes2D\n",
    "\n",
    "from pytorch_lightning.callbacks.base import Callback\n",
    "\n",
    "torch.set_printoptions(precision=10)\n",
    "\n",
    "from e2_ns_fpc_embedded_airfoil import NS_FPC_Dataset, NS_FPC, OptimSwitchLBFGS"
   ]
  },
  {
   "cell_type": "code",
   "execution_count": 2,
   "metadata": {},
   "outputs": [
    {
     "name": "stderr",
     "output_type": "stream",
     "text": [
      "100%|██████████| 8/8 [00:00<00:00, 497.78it/s]"
     ]
    },
    {
     "name": "stdout",
     "output_type": "stream",
     "text": [
      "Initializing parametric dataset\n",
      "dataset size =  (8, 6, 128, 256)\n",
      "INITIALIZING PARAMETERS TO ZERO\n"
     ]
    },
    {
     "name": "stderr",
     "output_type": "stream",
     "text": [
      "\n"
     ]
    }
   ],
   "source": [
    "# image_dataset_dir = \"../AirfoilFPC-256x128\"\n",
    "image_dataset_dir = \"../test-dataset-fpc\"\n",
    "# mapping_type = 'no_network'\n",
    "mapping_type = 'network'\n",
    "lx = 5.\n",
    "ly = 12.\n",
    "Nx = 256\n",
    "Ny = 128\n",
    "domain_size = 128\n",
    "Re = 1.\n",
    "dir_string = \"ns_fpc_af\"\n",
    "max_epochs = 50001\n",
    "plot_frequency = 1\n",
    "LR = 2e-4\n",
    "opt_switch_epochs = max_epochs\n",
    "load_from_prev = False\n",
    "load_version_id = 37\n",
    "\n",
    "enable_progress_bar = True\n",
    "# print(\"argv = \", sys.argv)\n",
    "# if len(sys.argv) > 1:\n",
    "#     enable_progress_bar = bool(int(sys.argv[1]))\n",
    "#     print(\"enable_progress_bar = \", enable_progress_bar)\n",
    "\n",
    "x = np.linspace(0, 1, Nx)\n",
    "y = np.linspace(0, 1, Ny)\n",
    "xx , yy = np.meshgrid(x, y)\n",
    "\n",
    "dataset = NS_FPC_Dataset(dirname=image_dataset_dir, domain_lengths=(lx,ly), domain_sizes=(Nx,Ny), Re=Re)\n",
    "if load_from_prev:\n",
    "    print(\"LOADING FROM PREVIOUS VERSION: \", load_version_id)\n",
    "    case_dir = './ns_fpc_af/version_'+str(load_version_id)\n",
    "    net_u = torch.load(os.path.join(case_dir, 'net_u.pt'))\n",
    "    net_v = torch.load(os.path.join(case_dir, 'net_v.pt'))\n",
    "    net_p = torch.load(os.path.join(case_dir, 'net_p.pt'))\n",
    "else:\n",
    "    print(\"INITIALIZING PARAMETERS TO ZERO\")\n",
    "    if mapping_type == 'no_network':\n",
    "        v1 = np.zeros_like(dataset.x)\n",
    "        v2 = np.zeros_like(dataset.x)\n",
    "        p  = np.zeros_like(dataset.x)\n",
    "        u_tensor = np.expand_dims(np.array([v1,v2,p]),0)\n",
    "\n",
    "        # network = torch.nn.ParameterList([torch.nn.Parameter(torch.FloatTensor(u_tensor), requires_grad=True)])\n",
    "        net_u = torch.nn.ParameterList([torch.nn.Parameter(torch.FloatTensor(u_tensor[:,0:1,:,:]), requires_grad=True)])\n",
    "        net_v = torch.nn.ParameterList([torch.nn.Parameter(torch.FloatTensor(u_tensor[:,1:2,:,:]), requires_grad=True)])\n",
    "        net_p = torch.nn.ParameterList([torch.nn.Parameter(torch.FloatTensor(u_tensor[:,2:3,:,:]), requires_grad=True)])\n",
    "    elif mapping_type == 'network':\n",
    "        net_u = AE(in_channels=1, out_channels=1, dims=Ny, n_downsample=3)\n",
    "        net_v = AE(in_channels=1, out_channels=1, dims=Ny, n_downsample=3)\n",
    "        net_p = AE(in_channels=1, out_channels=1, dims=Ny, n_downsample=3)\n",
    "network = (net_u, net_v, net_p)\n",
    "basecase = NS_FPC(network, dataset, domain_lengths=(lx,ly), domain_sizes=(Nx,Ny), batch_size=32, fem_basis_deg=1, learning_rate=LR, plot_frequency=plot_frequency, mapping_type=mapping_type)\n"
   ]
  },
  {
   "cell_type": "code",
   "execution_count": 3,
   "metadata": {},
   "outputs": [
    {
     "name": "stderr",
     "output_type": "stream",
     "text": [
      "GPU available: True, used: True\n",
      "TPU available: False, using: 0 TPU cores\n",
      "LOCAL_RANK: 0 - CUDA_VISIBLE_DEVICES: [0,1,2,3]\n",
      "/work/baskarg/bkhara/python_virtual_envs/lightning/lib/python3.6/site-packages/pytorch_lightning/utilities/distributed.py:69: UserWarning: Experiment logs directory ./ns_fpc_af/version_16 exists and is not empty. Previous log files in this directory will be deleted when the new ones are saved!\n",
      "  warnings.warn(*args, **kwargs)\n",
      "\n",
      "   | Name         | Type          | Params\n",
      "------------------------------------------------\n",
      "0  | network      | AE            | 42.0 M\n",
      "1  | N_gp         | ParameterList | 16    \n",
      "2  | dN_x_gp      | ParameterList | 16    \n",
      "3  | dN_y_gp      | ParameterList | 16    \n",
      "4  | d2N_x_gp     | ParameterList | 16    \n",
      "5  | d2N_y_gp     | ParameterList | 16    \n",
      "6  | d2N_xy_gp    | ParameterList | 16    \n",
      "7  | N_gp_surf    | ParameterList | 4     \n",
      "8  | dN_x_gp_surf | ParameterList | 4     \n",
      "9  | dN_y_gp_surf | ParameterList | 4     \n",
      "10 | net_v        | AE            | 42.0 M\n",
      "11 | net_p        | AE            | 42.0 M\n",
      "------------------------------------------------\n",
      "125 M     Trainable params\n",
      "108       Non-trainable params\n",
      "125 M     Total params\n",
      "503.545   Total estimated model params size (MB)\n"
     ]
    },
    {
     "name": "stdout",
     "output_type": "stream",
     "text": [
      "Epoch 0:   0%|          | 0/1 [00:00<?, ?it/s] "
     ]
    },
    {
     "name": "stderr",
     "output_type": "stream",
     "text": [
      "/work/baskarg/bkhara/python_virtual_envs/lightning/lib/python3.6/site-packages/pytorch_lightning/utilities/distributed.py:69: UserWarning: The dataloader, train dataloader, does not have many workers which may be a bottleneck. Consider increasing the value of the `num_workers` argument` (try 64 which is the number of cpus on this machine) in the `DataLoader` init to improve performance.\n",
      "  warnings.warn(*args, **kwargs)\n"
     ]
    },
    {
     "name": "stdout",
     "output_type": "stream",
     "text": [
      "Epoch 8: 100%|██████████| 1/1 [00:00<00:00,  2.43it/s, loss=572, v_num=6_16]     "
     ]
    },
    {
     "name": "stderr",
     "output_type": "stream",
     "text": [
      "/work/baskarg/bkhara/python_virtual_envs/lightning/lib/python3.6/site-packages/pytorch_lightning/utilities/distributed.py:69: UserWarning: Detected KeyboardInterrupt, attempting graceful shutdown...\n",
      "  warnings.warn(*args, **kwargs)\n"
     ]
    }
   ],
   "source": [
    "# Initialize trainer\n",
    "logger = pl.loggers.TensorBoardLogger('.', name=dir_string)\n",
    "csv_logger = pl.loggers.CSVLogger(logger.save_dir, name=logger.name, version=logger.version)\n",
    "\n",
    "early_stopping = pl.callbacks.early_stopping.EarlyStopping('loss_u',\n",
    "    min_delta=1e-8, patience=10, verbose=False, mode='max', strict=True)\n",
    "checkpoint = pl.callbacks.model_checkpoint.ModelCheckpoint(monitor='loss',\n",
    "    dirpath=logger.log_dir, filename='{epoch}-{step}',\n",
    "    mode='min', save_last=True)\n",
    "\n",
    "lbfgs_switch = OptimSwitchLBFGS(epochs=opt_switch_epochs)\n",
    "\n",
    "trainer = Trainer(gpus=[0],callbacks=[early_stopping,lbfgs_switch],\n",
    "    checkpoint_callback=checkpoint, logger=[logger,csv_logger],\n",
    "    max_epochs=max_epochs, deterministic=True, profiler=\"simple\")\n",
    "\n",
    "# Training\n",
    "trainer.fit(basecase)\n",
    "# Save network\n",
    "torch.save(basecase.net_u, os.path.join(logger.log_dir, 'net_u_detached.pt'))\n",
    "torch.save(basecase.net_v, os.path.join(logger.log_dir, 'net_v_detached.pt'))\n",
    "torch.save(basecase.net_p, os.path.join(logger.log_dir, 'net_p_detached.pt'))"
   ]
  },
  {
   "cell_type": "code",
   "execution_count": null,
   "metadata": {},
   "outputs": [],
   "source": []
  },
  {
   "cell_type": "code",
   "execution_count": null,
   "metadata": {},
   "outputs": [],
   "source": []
  },
  {
   "cell_type": "code",
   "execution_count": null,
   "metadata": {},
   "outputs": [],
   "source": []
  }
 ],
 "metadata": {
  "kernelspec": {
   "display_name": "Python 3",
   "language": "python",
   "name": "python3"
  },
  "language_info": {
   "codemirror_mode": {
    "name": "ipython",
    "version": 3
   },
   "file_extension": ".py",
   "mimetype": "text/x-python",
   "name": "python",
   "nbconvert_exporter": "python",
   "pygments_lexer": "ipython3",
   "version": "3.6.3"
  }
 },
 "nbformat": 4,
 "nbformat_minor": 4
}
