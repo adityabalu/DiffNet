{
 "cells": [
  {
   "cell_type": "code",
   "execution_count": 13,
   "metadata": {},
   "outputs": [
    {
     "name": "stderr",
     "output_type": "stream",
     "text": [
      "Global seed set to 42\n"
     ]
    }
   ],
   "source": [
    "import os\n",
    "import sys\n",
    "import json\n",
    "import torch\n",
    "import numpy as np\n",
    "\n",
    "import matplotlib\n",
    "# matplotlib.use(\"pgf\")\n",
    "matplotlib.rcParams.update({\n",
    "    # 'font.family': 'serif',\n",
    "    'font.size':12,\n",
    "})\n",
    "from matplotlib import pyplot as plt\n",
    "from IPython.display import Image\n",
    "\n",
    "import pytorch_lightning as pl\n",
    "from pytorch_lightning import Trainer, seed_everything\n",
    "from pytorch_lightning.loggers import TensorBoardLogger\n",
    "seed_everything(42)\n",
    "\n",
    "import DiffNet\n",
    "from DiffNet.networks.wgan import GoodNetwork\n",
    "from DiffNet.DiffNetFEM import DiffNet2DFEM\n",
    "from DiffNet.datasets.parametric.images import ImageIMBack\n",
    "\n",
    "from e1_complex_immersed_background import Poisson"
   ]
  },
  {
   "cell_type": "code",
   "execution_count": 14,
   "metadata": {},
   "outputs": [],
   "source": [
    "def query_plot_contours_and_save(dirpath,nu,f,u, saveid=None):\n",
    "    outfilename = os.path.join(dirpath, 'query.png')\n",
    "    if saveid != None:\n",
    "        outfilename = os.path.join(dirpath, 'query_'+str(saveid)+'.png')\n",
    "    # plotting\n",
    "    num_query = nu.shape[0]\n",
    "    plt_num_row = num_query\n",
    "    plt_num_col = 2\n",
    "    fig, axs = plt.subplots(plt_num_row, plt_num_col, figsize=(4*plt_num_col,2.4*plt_num_row),\n",
    "                        subplot_kw={'aspect': 'auto'}, sharex=True, sharey=True, squeeze=True)\n",
    "    for ax_row in axs:\n",
    "        for ax in ax_row:\n",
    "            ax.set_xticks([])\n",
    "            ax.set_yticks([])\n",
    "\n",
    "    for idx in range(num_query):\n",
    "        # extract diffusivity and boundary conditions here\n",
    "        kp = nu[idx,:,:]\n",
    "        up = u[idx,:,:]\n",
    "\n",
    "        im0 = axs[idx][0].imshow(kp,cmap='jet')\n",
    "        fig.colorbar(im0, ax=axs[idx,0])\n",
    "        im1 = axs[idx][1].imshow(up,cmap='jet')\n",
    "        fig.colorbar(im1, ax=axs[idx,1]) \n",
    "    plt.savefig(outfilename)\n",
    "    plt.close('all')\n",
    "    # plt.show()"
   ]
  },
  {
   "cell_type": "code",
   "execution_count": 15,
   "metadata": {},
   "outputs": [
    {
     "name": "stdout",
     "output_type": "stream",
     "text": [
      "nsample =  227\n"
     ]
    }
   ],
   "source": [
    "dirname = './test_img_data'\n",
    "case_dir = './complex_immersed_background/version_27'\n",
    "query_out_path = os.path.join(case_dir, 'query-test_img_data')\n",
    "if not os.path.exists(query_out_path):\n",
    "    os.makedirs(query_out_path)\n",
    "dataset = ImageIMBack(dirname, domain_size=256)\n",
    "#network = GoodNetwork(in_channels=2, out_channels=1, in_dim=64, out_dim=64)\n",
    "network = torch.load(os.path.join(case_dir, 'network.pt'))\n",
    "basecase = Poisson(network, dataset, batch_size=16, domain_size=256)\n",
    "\n",
    "nsample = len(basecase.dataset)\n",
    "print(\"nsample = \", nsample)"
   ]
  },
  {
   "cell_type": "code",
   "execution_count": 18,
   "metadata": {},
   "outputs": [],
   "source": [
    "for i in range(nsample//10+1):\n",
    "    id0 = 10*i\n",
    "    id1 = id0+10\n",
    "    if id1 > nsample:\n",
    "        id1 = nsample\n",
    "        \n",
    "    # core query code\n",
    "    inputs, forcing = basecase.dataset[id0:id1]\n",
    "    nu, f, u = basecase.do_query(inputs, forcing)\n",
    "    query_plot_contours_and_save(query_out_path, nu, f, u, i)"
   ]
  },
  {
   "cell_type": "code",
   "execution_count": 5,
   "metadata": {},
   "outputs": [],
   "source": [
    "# Image(filename=os.path.join(query_out_path,'query.png')) "
   ]
  },
  {
   "cell_type": "code",
   "execution_count": null,
   "metadata": {},
   "outputs": [],
   "source": []
  }
 ],
 "metadata": {
  "kernelspec": {
   "display_name": "Python 3",
   "language": "python",
   "name": "python3"
  },
  "language_info": {
   "codemirror_mode": {
    "name": "ipython",
    "version": 3
   },
   "file_extension": ".py",
   "mimetype": "text/x-python",
   "name": "python",
   "nbconvert_exporter": "python",
   "pygments_lexer": "ipython3",
   "version": "3.6.3"
  }
 },
 "nbformat": 4,
 "nbformat_minor": 4
}
