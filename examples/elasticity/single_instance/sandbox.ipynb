{
 "cells": [
  {
   "cell_type": "code",
   "execution_count": 1,
   "metadata": {},
   "outputs": [],
   "source": [
    "import os\n",
    "import sys\n",
    "import math\n",
    "import json\n",
    "import torch\n",
    "import numpy as np"
   ]
  },
  {
   "cell_type": "code",
   "execution_count": 3,
   "metadata": {},
   "outputs": [
    {
     "name": "stdout",
     "output_type": "stream",
     "text": [
      "(64, 64)\n",
      "(64, 64)\n"
     ]
    }
   ],
   "source": [
    "x = np.linspace(0, 1, 64)\n",
    "y = np.linspace(0, 1, 64)\n",
    "\n",
    "xx , yy = np.meshgrid(x, y)\n",
    "\n",
    "print(xx.shape)\n",
    "print(yy.shape)"
   ]
  },
  {
   "cell_type": "code",
   "execution_count": 4,
   "metadata": {},
   "outputs": [
    {
     "name": "stdout",
     "output_type": "stream",
     "text": [
      "[[0.         0.01587302 0.03174603 ... 0.96825397 0.98412698 1.        ]\n",
      " [0.         0.01587302 0.03174603 ... 0.96825397 0.98412698 1.        ]\n",
      " [0.         0.01587302 0.03174603 ... 0.96825397 0.98412698 1.        ]\n",
      " ...\n",
      " [0.         0.01587302 0.03174603 ... 0.96825397 0.98412698 1.        ]\n",
      " [0.         0.01587302 0.03174603 ... 0.96825397 0.98412698 1.        ]\n",
      " [0.         0.01587302 0.03174603 ... 0.96825397 0.98412698 1.        ]]\n"
     ]
    }
   ],
   "source": [
    "print(xx)"
   ]
  },
  {
   "cell_type": "code",
   "execution_count": 5,
   "metadata": {},
   "outputs": [
    {
     "name": "stdout",
     "output_type": "stream",
     "text": [
      "(64,)\n"
     ]
    }
   ],
   "source": [
    "print(xx[0,:].shape)"
   ]
  },
  {
   "cell_type": "code",
   "execution_count": 6,
   "metadata": {},
   "outputs": [
    {
     "name": "stdout",
     "output_type": "stream",
     "text": [
      "(1, 3, 64, 64)\n"
     ]
    }
   ],
   "source": [
    "v1 = np.zeros_like(xx) # np.sin(math.pi*xx)*np.cos(math.pi*yy)\n",
    "v2 = np.zeros_like(xx) # -np.cos(math.pi*xx)*np.sin(math.pi*yy)\n",
    "p  = np.zeros_like(xx) # np.sin(math.pi*xx)*np.sin(math.pi*yy)\n",
    "u_tensor = np.expand_dims(np.array([v1,v2,p]),0)\n",
    "print(u_tensor.shape)"
   ]
  },
  {
   "cell_type": "code",
   "execution_count": null,
   "metadata": {},
   "outputs": [],
   "source": []
  }
 ],
 "metadata": {
  "interpreter": {
   "hash": "d72395b50acd05a7644aad87604090969d4c2984c6177013db525fd19f9f74a8"
  },
  "kernelspec": {
   "display_name": "Python 3.8.10 ('diffnet')",
   "language": "python",
   "name": "python3"
  },
  "language_info": {
   "codemirror_mode": {
    "name": "ipython",
    "version": 3
   },
   "file_extension": ".py",
   "mimetype": "text/x-python",
   "name": "python",
   "nbconvert_exporter": "python",
   "pygments_lexer": "ipython3",
   "version": "3.8.10"
  },
  "orig_nbformat": 4
 },
 "nbformat": 4,
 "nbformat_minor": 2
}
